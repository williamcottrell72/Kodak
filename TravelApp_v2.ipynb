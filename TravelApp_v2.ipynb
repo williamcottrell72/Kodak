{
 "cells": [
  {
   "cell_type": "markdown",
   "metadata": {},
   "source": [
    "# Recommender System for Travel App"
   ]
  },
  {
   "cell_type": "markdown",
   "metadata": {},
   "source": [
    "### Let's import some useful libraries"
   ]
  },
  {
   "cell_type": "code",
   "execution_count": 1,
   "metadata": {},
   "outputs": [],
   "source": [
    "import torch\n",
    "import torch.nn.functional as F\n",
    "import torch.optim as optim\n",
    "import numpy as np\n",
    "import pickle as pkl\n",
    "import torch.autograd as autograd\n",
    "import torch.nn as nn\n",
    "import os\n",
    "import math\n",
    "from collections import Counter\n",
    "import random\n",
    "import gensim\n",
    "import nltk\n",
    "import random\n",
    "from sklearn.manifold import TSNE\n",
    "from sklearn.cluster import KMeans\n",
    "import enchant\n",
    "import matplotlib.pyplot as plt\n",
    "from nltk import WordNetLemmatizer, word_tokenize, bigrams, ngrams, RegexpTokenizer\n",
    "lemmatize = WordNetLemmatizer()\n",
    "%matplotlib inline"
   ]
  },
  {
   "cell_type": "markdown",
   "metadata": {},
   "source": [
    "### Here is the code for the recommender system.  This consists of a deep auto-encoder with a 'fit' and 'predict' method like sklearn."
   ]
  },
  {
   "cell_type": "code",
   "execution_count": 88,
   "metadata": {},
   "outputs": [],
   "source": [
    "class recsys(nn.Module):\n",
    "    \n",
    "    \n",
    "    def __init__(self,ratings=None,users=100,sites=1000,latent_features=10,\\\n",
    "                 dropout=.1,max_iter=10,epochs=4,temperature=1,lr=.01,batch_size=500,\\\n",
    "                 losses=None):\n",
    "        \n",
    "        super(recsys,self).__init__()\n",
    "        \n",
    "        \n",
    "        self.users=users\n",
    "        self.sites=sites\n",
    "        self.dropout=nn.Dropout(p=dropout)\n",
    "        self.max_iter=max_iter\n",
    "        self.lr=lr\n",
    "        self.batch_size=batch_size\n",
    "        self.temperature=temperature\n",
    "        self.ratings=ratings\n",
    "        self.losses=None\n",
    "        self.epochs=epochs\n",
    "        self.linear1=nn.Linear(sites,latent_features)\n",
    "        self.linear2=nn.Linear(latent_features,latent_features)\n",
    "        self.linear3=nn.Linear(latent_features,sites)\n",
    "    \n",
    "    \n",
    "    # The input x should have shape (number_of_users,sites)\n",
    "    # Ratings needs to be a torch tensor of the same shape as x.\n",
    "    \n",
    "    \n",
    "#     def get_mask(self,ratings=None):\n",
    "\n",
    "#         try: \n",
    "#             if ratings==None:\n",
    "#                 pass\n",
    "#         except:\n",
    "#             self.ratings=ratings\n",
    "            \n",
    "#         mask=[]\n",
    "#         for i in range(len(self.ratings)):\n",
    "#             mask.append([0 if math.isnan(self.ratings[i,j]) else 1 for j in range(len(self.ratings[0]))])\n",
    "#         return torch.tensor(mask)\n",
    "       \n",
    "    \n",
    "    \n",
    "    def imputer(self,x=None):\n",
    "        #Need to make a function which takes in a ratings array and returns\n",
    "        #an initial best guess.  For now I'll just mask the unkown variables\n",
    "        #print(type(self.ratings))\n",
    "        \n",
    "        try: \n",
    "            if x==None:\n",
    "                ratings=self.ratings\n",
    "        except:\n",
    "            ratings=x\n",
    "\n",
    "                \n",
    "        ratings[np.isnan(ratings)] = 0\n",
    "        return torch.tensor(ratings).float()\n",
    "    \n",
    "\n",
    "    \n",
    "    def forward(self,x):\n",
    "        x=self.imputer(x)\n",
    "        x=self.linear1(x.float())\n",
    "        x=torch.tanh(x)\n",
    "        x=self.linear2(x.float())\n",
    "        x=self.dropout(x.float())\n",
    "        x=torch.tanh(x)\n",
    "        x=self.linear3(x.float())\n",
    "        return x\n",
    "    \n",
    "    \n",
    "    def custom_loss(self,x,y):\n",
    "        ct=0\n",
    "        for i in range(len(x)):\n",
    "            if (torch.norm(x[i])==0) or (torch.norm(y[i])==0):\n",
    "                pass\n",
    "            else:\n",
    "                ct+=1-(x[i]@y[i])/(torch.norm(x[i])*torch.norm(y[i]))\n",
    "        return ct/len(x)\n",
    "\n",
    "\n",
    "    \n",
    "    def predict(self,x):\n",
    "        x=self.imputer(x)\n",
    "        return self.forward(x)\n",
    "    \n",
    "    def fit(self,ratings=None):\n",
    "        \n",
    "        try: \n",
    "            if ratings==None:\n",
    "                ratings=self.ratings\n",
    "    \n",
    "        except:\n",
    "            pass\n",
    "\n",
    "        ratings_clean=self.imputer(ratings)\n",
    "       \n",
    "        \n",
    "\n",
    "        loss_function=nn.MSELoss()\n",
    "    \n",
    "        \n",
    "\n",
    "\n",
    "        f= open('data/losses','w+')\n",
    "\n",
    "        losses=[]\n",
    "\n",
    "        for i in range(1,self.epochs+1):\n",
    "            \n",
    "            optimizer = optim.Adam(self.parameters(),lr=self.lr/i)\n",
    "            \n",
    "            print(f'Epoch {i}')\n",
    "            \n",
    "            sample_indices=np.random.choice(range(len(ratings_clean)),self.batch_size,replace=False)\n",
    "            sample=ratings_clean[sample_indices]\n",
    "            #print(sample_indices)\n",
    "            \n",
    "            for _ in range(self.max_iter):\n",
    "                optimizer.zero_grad()\n",
    "                out = self.forward(sample)\n",
    "                #out = self.forward(ratings_clean)\n",
    "                #loss = loss_function(out,ratings_clean) #This one works!\n",
    "                loss = self.custom_loss(out,sample)  #This one works\n",
    "                #loss = self.custom_loss(out,ratings_clean)\n",
    "                losses.append(float(loss.detach().numpy()))\n",
    "                f.write(str(loss.detach().numpy())+',')\n",
    "                loss.backward(retain_graph=True)\n",
    "                \n",
    "                optimizer.step()\n",
    "            self.losses=losses\n",
    "        f.close()"
   ]
  },
  {
   "cell_type": "markdown",
   "metadata": {},
   "source": [
    "### Now we instantiate an instance of the class recsys.  We also pick some hyperparameters. "
   ]
  },
  {
   "cell_type": "code",
   "execution_count": 105,
   "metadata": {},
   "outputs": [],
   "source": [
    "test=recsys(users=100,sites=1000,latent_features=20,dropout=0,epochs=10,max_iter=100,lr=.01,batch_size=50)\n"
   ]
  },
  {
   "cell_type": "markdown",
   "metadata": {},
   "source": [
    "### We need some data to run this one.  Let's make some data up."
   ]
  },
  {
   "cell_type": "code",
   "execution_count": 101,
   "metadata": {},
   "outputs": [],
   "source": [
    "data=[]\n",
    "users=100\n",
    "sites=1000\n",
    "ranked=30\n",
    "for j in range(users):\n",
    "    ra=np.random.choice(range(users),ranked)\n",
    "    data.append(np.array([10*random.random() if (i in ra) else float('NaN') for i in range(sites)]))\n",
    "data=np.array(data)"
   ]
  },
  {
   "cell_type": "markdown",
   "metadata": {},
   "source": [
    "### Calling the fit method on this 'data'"
   ]
  },
  {
   "cell_type": "code",
   "execution_count": 106,
   "metadata": {
    "scrolled": false
   },
   "outputs": [
    {
     "name": "stdout",
     "output_type": "stream",
     "text": [
      "Epoch 1\n",
      "Epoch 2\n",
      "Epoch 3\n",
      "Epoch 4\n",
      "Epoch 5\n",
      "Epoch 6\n",
      "Epoch 7\n",
      "Epoch 8\n",
      "Epoch 9\n",
      "Epoch 10\n"
     ]
    }
   ],
   "source": [
    "test.fit(data)"
   ]
  },
  {
   "cell_type": "markdown",
   "metadata": {},
   "source": [
    "### We now have a fit model.  Let's check the loss function.  The losses are stored in the recsys class, so we can just call 'test.losses' to get a list of losses for each iteration."
   ]
  },
  {
   "cell_type": "code",
   "execution_count": 107,
   "metadata": {},
   "outputs": [
    {
     "data": {
      "image/png": "[encoded data removed]",
      "text/plain": [
       "<Figure size 432x288 with 1 Axes>"
      ]
     },
     "metadata": {},
     "output_type": "display_data"
    }
   ],
   "source": [
    "plt.scatter(list(range(len(test.losses))),test.losses,s=.3)\n",
    "plt.xlabel('Iteration')\n",
    "plt.ylabel('Loss')\n",
    "plt.ylim(0,1)\n",
    "plt.show()"
   ]
  },
  {
   "cell_type": "code",
   "execution_count": 108,
   "metadata": {},
   "outputs": [
    {
     "data": {
      "text/plain": [
       "0.1856667846441269"
      ]
     },
     "execution_count": 108,
     "metadata": {},
     "output_type": "execute_result"
    }
   ],
   "source": [
    "test.losses[-1]"
   ]
  },
  {
   "cell_type": "markdown",
   "metadata": {},
   "source": [
    "Here we see that the loss goes up near the beginning of each batch, but the overall trend is towards lower loss."
   ]
  },
  {
   "cell_type": "markdown",
   "metadata": {},
   "source": [
    "### Now we can make some predictions for a new user....  Since I'm lazy, I'll just make a prediction for one of the previously seen users.  The call looks like this:"
   ]
  },
  {
   "cell_type": "code",
   "execution_count": 7,
   "metadata": {},
   "outputs": [],
   "source": [
    "predictions=test.predict(data[2])"
   ]
  },
  {
   "cell_type": "markdown",
   "metadata": {},
   "source": [
    "# Making Predictions w/ Real Data"
   ]
  },
  {
   "cell_type": "markdown",
   "metadata": {},
   "source": [
    "Now we need to run this with some real data.  Below we have some functions to clean the data.  The data is coming from https://www.tripadvisor.com/ and https://trip.sftravel.com/."
   ]
  },
  {
   "cell_type": "code",
   "execution_count": 68,
   "metadata": {},
   "outputs": [],
   "source": [
    "#Results is a list of user rankings of various attractions in SF.  It is structured as a list of json\n",
    "# like files of the form [{user1:{attraction1:rating1,attraction2:rating2,attraction3:rating3}, user2:...}]\n",
    "\n",
    "results=[]\n",
    "for k in range(100,10000,100):\n",
    "    with open(f'data/file_{k}.pkl','rb') as f:\n",
    "        likes=pkl.load(f)\n",
    "        results.append(likes)\n",
    "    \n",
    "# Now we need to combine all the results above into one big dictionary.    \n",
    "              \n",
    "res=results[0]\n",
    "for i in range(1,len(results)):\n",
    "    res={**res,**results[i]}\n",
    "    \n",
    "# We need a dictionary to map trip adviser names to sf_travel site names:  \n",
    "\n",
    "with open('data/ta_to_sf.pkl','rb') as f:\n",
    "    ta_to_sf=pkl.load(f)\n",
    "    \n",
    "# Finally, we import a dictionary which maps trip-adviser sites to features.\n",
    "    \n",
    "with open('data/ta_feature_dct.pkl','rb') as f:\n",
    "    ta_feature_dct=pkl.load(f)"
   ]
  },
  {
   "cell_type": "code",
   "execution_count": 80,
   "metadata": {},
   "outputs": [],
   "source": [
    "\n",
    "# make_matrix takes in a list of rankings of attractions as well as a dictionary (site to labels) and spits out \n",
    "# 1) an array of user preferences, 2) a list of users and 3) a list of attractions.  \n",
    "\n",
    "def make_matrix(users,ta_to_sf):\n",
    "    user_list=list(users.keys())\n",
    "    places=[]\n",
    "    for user_key in users.keys():\n",
    "        for place in users[user_key].keys():\n",
    "            place_minus_sf=place[15:]\n",
    "            if place_minus_sf in list(ta_to_sf.keys()):\n",
    "                places.append(place)\n",
    "    places=list(set(places))\n",
    "\n",
    "\n",
    "    matrix=[]\n",
    "    for u in user_list:\n",
    "        user_likes=[]\n",
    "        for p in places:\n",
    "            if p in users[u].keys():\n",
    "                user_likes.append(users[u][p])\n",
    "            else:\n",
    "                user_likes.append(float('NaN'))\n",
    "        matrix.append(user_likes)\n",
    "\n",
    "    return np.array(matrix), user_list, places\n",
    "\n",
    "\n",
    "# get_data takes in the results 'res' above and spits out a 'clean' matrix of user preferences\n",
    "# as well as a list of users and places.  This is basically a cleaned version of 'make_matrix'\n",
    "\n",
    "def get_data(res,ta_to_sf):\n",
    "    \n",
    "    matrix, user_list, places = make_matrix(res,ta_to_sf)\n",
    "    \n",
    "    good_list=[]\n",
    "    for i in range(len(matrix)):\n",
    "        if sum(np.nan_to_num(matrix[i],0))!=0:\n",
    "            good_list.append(i)\n",
    "            \n",
    "    users_clean=np.array(user_list)[good_list]\n",
    "    matrix_clean=matrix[good_list]\n",
    "    return matrix_clean, users_clean, places\n",
    "\n",
    "# make profiles creates a user profile based on past data and the labels for each site that were scraped from \n",
    "# sf_trip\n",
    "\n",
    "def make_profiles(matrix,ta_features_dct):\n",
    "    profiles={}\n",
    "    for u in range(len(matrix)):\n",
    "        st=''\n",
    "        for i in range(len(matrix[0])):\n",
    "            st+=int(matrix[u][i])*(ta_feature_dct[places[i][15:]]+' ').replace(' & ','+').replace('Must See','Must-See')\n",
    "        res1=Counter(flatten([style_mapper[x.strip(',')] for x in st.split()]))\n",
    "        keys=res1.keys()\n",
    "        res1p={k:10*res1[k]/sum([res1[k] for k in keys]) for k in keys}\n",
    "        profiles[u]=res1p\n",
    "    return profiles\n",
    "\n",
    "#Now we convert the profiles to numpy.\n",
    "\n",
    "def convert_profile_to_np(profiles,attributes=['Nature','History','Culture','Life']):\n",
    "    np_profiles=[]\n",
    "    for u in range(len(matrix)):\n",
    "        user_profile=[]\n",
    "        for a in attributes:\n",
    "            if a in profiles[u].keys():\n",
    "                user_profile.append(profiles[u][a])\n",
    "            else:\n",
    "                user_profile.append(0)\n",
    "        np_profiles.append(user_profile)\n",
    "    return np.array(np_profiles)\n",
    "\n",
    "#Flatten is just a helper function for 'make_profiles'\n",
    "\n",
    "def flatten(testlist):\n",
    "    acc=[]\n",
    "    for x in testlist:\n",
    "        if type(x)==str:\n",
    "            acc.append(x)\n",
    "        elif type(x)==list:\n",
    "            acc+=x\n",
    "    return acc\n",
    "\n",
    "# This is just a wrapper for creating the recsys class.  The wrapper allows us to automatically initialize\n",
    "# the number of users and attractions\n",
    "\n",
    "def create_recsys(matrix,dropout=.1,latent_features=4,max_iter=100,lr=.001,epochs=5,temperature=1,batch_size=500):\n",
    "    return recsys(matrix,matrix.shape[0],matrix.shape[1],latent_features,dropout,max_iter,epochs,temperature,lr,\\\n",
    "                 batch_size=batch_size)\n",
    "\n",
    "\n",
    "style_mapper={'Adventure':'Nature', 'Art':'Culture','Cuisine':'Life','Culture':'Culture',\\\n",
    "              'Fun+Entertainment':['Life','History'],'History':'History','Landmark':'History','Museum':'Culture',\\\n",
    "              'Must-See':'History','Nature':'Nature','Nightlife':'Life','Shopping':'Life','Sports':'Life',\\\n",
    "              'Tour':'Life','R+R':'Life'}"
   ]
  },
  {
   "cell_type": "markdown",
   "metadata": {},
   "source": [
    "## Building and Training Model\n",
    "\n",
    "### Now that we have the code above it is simple to train a model.  "
   ]
  },
  {
   "cell_type": "code",
   "execution_count": 76,
   "metadata": {},
   "outputs": [],
   "source": [
    "matrix, users, places = get_data(res,ta_to_sf)"
   ]
  },
  {
   "cell_type": "code",
   "execution_count": 77,
   "metadata": {},
   "outputs": [],
   "source": [
    "profiles=make_profiles(matrix,ta_feature_dct)\n",
    "\n",
    "np_profiles=convert_profile_to_np(profiles)"
   ]
  },
  {
   "cell_type": "code",
   "execution_count": 189,
   "metadata": {},
   "outputs": [
    {
     "data": {
      "image/png": "[encoded data removed]",
      "text/plain": [
       "<Figure size 432x288 with 1 Axes>"
      ]
     },
     "metadata": {},
     "output_type": "display_data"
    }
   ],
   "source": [
    "plt.hist(testsum,bins=1000)\n",
    "plt.xlim(0,.04)\n",
    "plt.show()"
   ]
  },
  {
   "cell_type": "markdown",
   "metadata": {},
   "source": [
    "In the next line we make a new array which combines the generated user profiles with their historical data.  "
   ]
  },
  {
   "cell_type": "code",
   "execution_count": 78,
   "metadata": {},
   "outputs": [],
   "source": [
    "new_matrix=np.concatenate((np_profiles,matrix),axis=1)"
   ]
  },
  {
   "cell_type": "markdown",
   "metadata": {},
   "source": [
    "Now we want to train a model on our data.  Since the training is going to take a long time let's just look at a small sample to see if things are working.  I'll pick 500 users randomly just to get started. I'll also initialized a recsys using the create_recsys function above."
   ]
  },
  {
   "cell_type": "code",
   "execution_count": 111,
   "metadata": {},
   "outputs": [],
   "source": [
    "#sample=np.random.choice(range(len(new_matrix)),50,replace=False)\n",
    "test_real=create_recsys(new_matrix,max_iter=100,lr=.01,epochs=10,batch_size=500,latent_features=10)"
   ]
  },
  {
   "cell_type": "code",
   "execution_count": 198,
   "metadata": {},
   "outputs": [],
   "source": [
    "#Let's compute the average and std rating for each site.\n",
    "\n",
    "full_predictions=test_real.predict(new_matrix)\n",
    "full_predictions2=full_predictions[:,4:].detach().numpy()\n",
    "averages=[np.mean(full_predictions2[:,i]) for i in range(len(places))]\n",
    "stds=[np.std(full_predictions2[:,i]) for i in range(len(places))]"
   ]
  },
  {
   "cell_type": "code",
   "execution_count": null,
   "metadata": {},
   "outputs": [],
   "source": []
  },
  {
   "cell_type": "code",
   "execution_count": 112,
   "metadata": {},
   "outputs": [
    {
     "name": "stdout",
     "output_type": "stream",
     "text": [
      "Epoch 1\n",
      "Epoch 2\n",
      "Epoch 3\n",
      "Epoch 4\n",
      "Epoch 5\n",
      "Epoch 6\n",
      "Epoch 7\n",
      "Epoch 8\n",
      "Epoch 9\n",
      "Epoch 10\n"
     ]
    }
   ],
   "source": [
    "test_real.fit()"
   ]
  },
  {
   "cell_type": "markdown",
   "metadata": {},
   "source": [
    "Now we have a fit model.  Let's suppose a new user comes along with no previous history.  We will ask him to fill out fill out a questionaire describing his/her preference for ['Nature','History','Culture','Life'], in that order."
   ]
  },
  {
   "cell_type": "code",
   "execution_count": 271,
   "metadata": {},
   "outputs": [],
   "source": [
    "preferences=[1,3,3000000,30]\n",
    "\n",
    "# This user really likes nature, sort of likes culture, but is ambivalent about history and 'life'.\n",
    "# Note that the internally the scores are normalized such that the sum is 10, hence the extra factors below. \n",
    "\n",
    "new_user_preferences=(10/sum(preferences))*np.array(preferences)\n",
    "\n",
    "#Since we know nothing about the new user we just initialize their site rankings to zero. \n",
    "\n",
    "initialization=np.zeros(len(matrix[0]))\n",
    "\n",
    "#Finally, we combine the preferences with the initialization to represent the new user as a row.\n",
    "\n",
    "new_user=np.concatenate((new_user_preferences,initialization),axis=0)"
   ]
  },
  {
   "cell_type": "code",
   "execution_count": 272,
   "metadata": {},
   "outputs": [],
   "source": [
    "#Let's figure out what the user likes!\n",
    "predictions_raw=test_real.predict(new_user)"
   ]
  },
  {
   "cell_type": "code",
   "execution_count": 273,
   "metadata": {},
   "outputs": [],
   "source": [
    "# These are raw predictions.  We want to filter out the 'background effect'.  To do this we subtract off the average preferences.\n",
    "\n",
    "predictions_shifted=predictions_raw[4:].detach().numpy()-np.array(averages)\n",
    "predictions=sorted(list(enumerate([predictions_shifted[i]/stds[i] for i in range(len(predictions_shifted))])),\\\n",
    "                   key=lambda x: x[1],reverse=True)"
   ]
  },
  {
   "cell_type": "code",
   "execution_count": 274,
   "metadata": {},
   "outputs": [
    {
     "data": {
      "text/plain": [
       "[['Exploratorium', 3.054027557373047],\n",
       " ['El Farolito', 2.9732000827789307],\n",
       " ['Sears Fine Foods', 2.934149742126465],\n",
       " ['Redwood Room', 2.9312620162963867],\n",
       " ['MarketBar', 2.9106202125549316],\n",
       " ['Asian Art Museum', 2.898400068283081],\n",
       " ['Slanted Door', 2.7908637523651123],\n",
       " ['Waterbar', 2.7648088932037354],\n",
       " ['State Bird Provisions', 2.751325845718384],\n",
       " ['Prospect', 2.7462496757507324]]"
      ]
     },
     "execution_count": 274,
     "metadata": {},
     "output_type": "execute_result"
    }
   ],
   "source": [
    "#Let's figure out what the user likes!\n",
    "#predictions=sorted(list(enumerate(test_real.predict(new_user))),key=lambda x: x[1],reverse=True)\n",
    "sites=[[places[p[0]][15:],float(p[1])] for p in predictions[:10]]\n",
    "sites"
   ]
  },
  {
   "cell_type": "code",
   "execution_count": 116,
   "metadata": {},
   "outputs": [
    {
     "data": {
      "image/png": "[encoded data removed]",
      "text/plain": [
       "<Figure size 432x288 with 1 Axes>"
      ]
     },
     "metadata": {},
     "output_type": "display_data"
    }
   ],
   "source": [
    "plt.scatter(list(range(len(test_real.losses))),test_real.losses,s=.1)\n",
    "plt.xlabel('Iteration')\n",
    "plt.ylabel('Loss')\n",
    "plt.ylim(0,1)\n",
    "plt.show()"
   ]
  },
  {
   "cell_type": "markdown",
   "metadata": {},
   "source": [
    "## Notes:\n",
    "\n",
    "The results are not very representative of the user profile.  One might hope that if we set the user profile to 'nature=10, else=0', we would only get outdoors activities.  The problems is that everything is filtered through a neuro network which is influenced by what the 'nature-lovers' and others actually did in the past.....  These past actions are not necessarily in alignment with the ratings....  \n",
    "\n",
    "Let's imagine a simpler world where any user who likes nature ONLY visits natural attractions... I.e., there is a strong correlation between the labels and what one actually does.  In this world, we should be able to pick out purely 'natural' activies....\n",
    "\n",
    "Need to transform rankings to something like \"10(site_score_for_user - avg_site_score)\"\n",
    "\n",
    "Also, are we really masking unseen data??? "
   ]
  },
  {
   "cell_type": "code",
   "execution_count": null,
   "metadata": {},
   "outputs": [],
   "source": []
  }
 ],
 "metadata": {
  "kernelspec": {
   "display_name": "Python 3",
   "language": "python",
   "name": "python3"
  },
  "language_info": {
   "codemirror_mode": {
    "name": "ipython",
    "version": 3
   },
   "file_extension": ".py",
   "mimetype": "text/x-python",
   "name": "python",
   "nbconvert_exporter": "python",
   "pygments_lexer": "ipython3",
   "version": "3.6.5"
  }
 },
 "nbformat": 4,
 "nbformat_minor": 2
}
