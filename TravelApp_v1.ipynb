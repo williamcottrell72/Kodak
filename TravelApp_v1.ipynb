{
 "cells": [
  {
   "cell_type": "code",
   "execution_count": 1277,
   "metadata": {},
   "outputs": [],
   "source": [
    "import torch\n",
    "import torch.nn.functional as F\n",
    "import torch.optim as optim\n",
    "import numpy as np\n",
    "import pickle as pkl\n",
    "import torch.autograd as autograd\n",
    "import torch.nn as nn\n",
    "import os\n",
    "import math\n",
    "from collections import Counter\n",
    "import random\n",
    "import gensim\n",
    "import nltk\n",
    "import random\n",
    "from sklearn.manifold import TSNE\n",
    "from sklearn.cluster import KMeans\n",
    "import enchant\n",
    "import matplotlib.pyplot as plt\n",
    "from nltk import WordNetLemmatizer, word_tokenize, bigrams, ngrams, RegexpTokenizer\n",
    "lemmatize = WordNetLemmatizer()\n",
    "%matplotlib inline"
   ]
  },
  {
   "cell_type": "code",
   "execution_count": 1098,
   "metadata": {},
   "outputs": [],
   "source": [
    "class recsys(nn.Module):\n",
    "    \n",
    "    \n",
    "    def __init__(self,ratings=None,users=100,sites=1000,latent_features=10,dropout=.1,max_iter=10,epochs=4,temperature=1,lr=.01,losses=None):\n",
    "        \n",
    "        super(recsys,self).__init__()\n",
    "        \n",
    "        \n",
    "        self.users=users\n",
    "        self.sites=sites\n",
    "        self.dropout=nn.Dropout(p=dropout)\n",
    "        self.max_iter=max_iter\n",
    "        self.lr=lr\n",
    "        self.temperature=temperature\n",
    "        self.ratings=ratings\n",
    "        self.losses=None\n",
    "        self.epochs=epochs\n",
    "        self.linear1=nn.Linear(sites,latent_features)\n",
    "        self.linear2=nn.Linear(latent_features,latent_features)\n",
    "        self.linear3=nn.Linear(latent_features,sites)\n",
    "    \n",
    "    \n",
    "    # The input x should have shape (number_of_users,sites)\n",
    "    # Ratings needs to be a torch tensor of the same shape as x.\n",
    "    \n",
    "    \n",
    "#     def get_mask(self,ratings=None):\n",
    "\n",
    "#         try: \n",
    "#             if ratings==None:\n",
    "#                 pass\n",
    "#         except:\n",
    "#             self.ratings=ratings\n",
    "            \n",
    "#         mask=[]\n",
    "#         for i in range(len(self.ratings)):\n",
    "#             mask.append([0 if math.isnan(self.ratings[i,j]) else 1 for j in range(len(self.ratings[0]))])\n",
    "#         return torch.tensor(mask)\n",
    "       \n",
    "    \n",
    "    \n",
    "    def imputer(self,x=None):\n",
    "        #Need to make a function which takes in a ratings array and returns\n",
    "        #an initial best guess.  For now I'll just mask the unkown variables\n",
    "        #print(type(self.ratings))\n",
    "        \n",
    "        try: \n",
    "            if x==None:\n",
    "                ratings=self.ratings\n",
    "        except:\n",
    "            ratings=x\n",
    "\n",
    "                \n",
    "        ratings[np.isnan(ratings)] = 0\n",
    "        return torch.tensor(ratings).float()\n",
    "    \n",
    "\n",
    "    \n",
    "    def forward(self,x):\n",
    "        x=self.imputer(x)\n",
    "        x=self.linear1(x.float())\n",
    "        x=torch.tanh(x)\n",
    "        x=self.linear2(x.float())\n",
    "        x=self.dropout(x.float())\n",
    "        x=torch.tanh(x)\n",
    "        x=self.linear3(x.float())\n",
    "        return x\n",
    "    \n",
    "    \n",
    "    def custom_loss(self,x,y):\n",
    "        ct=0\n",
    "        for i in range(len(x)):\n",
    "            if (torch.norm(x[i])==0) or (torch.norm(y[i])==0):\n",
    "                pass\n",
    "            else:\n",
    "                ct+=1-(x[i]@y[i])/(torch.norm(x[i])*torch.norm(y[i]))\n",
    "        return ct/len(x)\n",
    "\n",
    "\n",
    "    \n",
    "    def predict(self,x):\n",
    "        x=self.imputer(x)\n",
    "        return self.forward(x)\n",
    "    \n",
    "    def fit(self,ratings=None):\n",
    "        \n",
    "        try: \n",
    "            if ratings==None:\n",
    "                ratings=self.ratings\n",
    "    \n",
    "        except:\n",
    "            pass\n",
    "\n",
    "        ratings_clean=self.imputer(ratings)\n",
    "       \n",
    "        \n",
    "\n",
    "        loss_function=nn.MSELoss()\n",
    "    \n",
    "        optimizer = optim.Adam(self.parameters(),lr=self.lr)\n",
    "\n",
    "\n",
    "        f= open('data/losses','w+')\n",
    "\n",
    "        losses=[]\n",
    "\n",
    "        for i in range(1,self.epochs+1):\n",
    "            \n",
    "            for _ in range(self.max_iter):\n",
    "                optimizer.zero_grad()\n",
    "                out = self.forward(ratings_clean)\n",
    "                #loss = loss_function(out,ratings_clean) #This one works!\n",
    "                loss = self.custom_loss(out,ratings_clean)  #This one works\n",
    "                losses.append(float(loss.detach().numpy()))\n",
    "                f.write(str(loss.detach().numpy())+',')\n",
    "                loss.backward(retain_graph=True)\n",
    "                \n",
    "                optimizer.step()\n",
    "            self.losses=losses\n",
    "        f.close()\n",
    "        \n"
   ]
  },
  {
   "cell_type": "code",
   "execution_count": 1094,
   "metadata": {},
   "outputs": [],
   "source": [
    "test=recsys(users=100,sites=1000,latent_features=20,dropout=0,epochs=5,max_iter=10)\n"
   ]
  },
  {
   "cell_type": "code",
   "execution_count": 937,
   "metadata": {},
   "outputs": [],
   "source": [
    "data=[]\n",
    "users=100\n",
    "sites=1000\n",
    "ranked=30\n",
    "for j in range(users):\n",
    "    ra=np.random.choice(range(users),ranked)\n",
    "    data.append(np.array([10*random.random() if (i in ra) else float('NaN') for i in range(sites)]))\n",
    "data=np.array(data)"
   ]
  },
  {
   "cell_type": "code",
   "execution_count": 934,
   "metadata": {
    "scrolled": false
   },
   "outputs": [],
   "source": [
    "test.fit(data)"
   ]
  },
  {
   "cell_type": "code",
   "execution_count": 935,
   "metadata": {},
   "outputs": [
    {
     "data": {
      "image/png": "[encoded data removed]",
      "text/plain": [
       "<Figure size 432x288 with 1 Axes>"
      ]
     },
     "metadata": {},
     "output_type": "display_data"
    }
   ],
   "source": [
    "plt.scatter(list(range(len(test.losses))),test.losses)\n",
    "plt.xlabel('Iteration')\n",
    "plt.ylabel('Loss')\n",
    "plt.show()"
   ]
  },
  {
   "cell_type": "code",
   "execution_count": 873,
   "metadata": {},
   "outputs": [],
   "source": [
    "predictions=test.predict(data[2])"
   ]
  },
  {
   "cell_type": "code",
   "execution_count": 1076,
   "metadata": {},
   "outputs": [],
   "source": [
    "results=[]\n",
    "for k in range(100,10000,100):\n",
    "    with open(f'data/file_{k}.pkl','rb') as f:\n",
    "        likes=pkl.load(f)\n",
    "        results.append(likes)\n",
    "        \n",
    "        \n",
    "res=results[0]\n",
    "for i in range(1,len(results)):\n",
    "    res={**res,**results[i]}"
   ]
  },
  {
   "cell_type": "code",
   "execution_count": 1235,
   "metadata": {},
   "outputs": [],
   "source": [
    "def make_matrix(users,ta_to_sf):\n",
    "    user_list=list(users.keys())\n",
    "    # Need full list of SF locations\n",
    "    places=[]\n",
    "    for user_key in users.keys():\n",
    "        for place in users[user_key].keys():\n",
    "            #place=place[15:]\n",
    "            place_minus_sf=place[15:]\n",
    "            if place_minus_sf in list(ta_to_sf.keys()):\n",
    "                places.append(place)\n",
    "    places=list(set(places))\n",
    "\n",
    "\n",
    "    # Make array for user1\n",
    "    matrix=[]\n",
    "    for u in user_list:\n",
    "        user_likes=[]\n",
    "        for p in places:\n",
    "            if p in users[u].keys():\n",
    "                user_likes.append(users[u][p])\n",
    "            else:\n",
    "                user_likes.append(float('NaN'))\n",
    "        matrix.append(user_likes)\n",
    "\n",
    "    return np.array(matrix), user_list, places\n",
    "\n",
    "\n",
    "def get_data(res,ta_to_sf):\n",
    "    \n",
    "    matrix, user_list, places = make_matrix(res,ta_to_sf)\n",
    "    \n",
    "    good_list=[]\n",
    "    for i in range(len(matrix)):\n",
    "        if sum(np.nan_to_num(matrix[i],0))!=0:\n",
    "            good_list.append(i)\n",
    "            \n",
    "    users_clean=np.array(user_list)[good_list]\n",
    "    matrix_clean=matrix[good_list]\n",
    "    return matrix_clean, users_clean, places"
   ]
  },
  {
   "cell_type": "code",
   "execution_count": 1292,
   "metadata": {},
   "outputs": [],
   "source": [
    "matrix, users, places = get_data(res,ta_to_sf)"
   ]
  },
  {
   "cell_type": "code",
   "execution_count": 1246,
   "metadata": {},
   "outputs": [],
   "source": [
    "with open('ta_feature_dct.pkl','rb') as f:\n",
    "    ta_feature_dct=pkl.load(f)"
   ]
  },
  {
   "cell_type": "code",
   "execution_count": 1250,
   "metadata": {},
   "outputs": [
    {
     "data": {
      "text/plain": [
       "684"
      ]
     },
     "execution_count": 1250,
     "metadata": {},
     "output_type": "execute_result"
    }
   ],
   "source": [
    "#Ok, need to make a mape that assigns each user a profile based on past experiences and ratings.\n",
    "len(matrix[:1][0])"
   ]
  },
  {
   "cell_type": "code",
   "execution_count": 1297,
   "metadata": {},
   "outputs": [],
   "source": [
    "#for user1:\n",
    "def make_profiles(matrix,ta_features_dct):\n",
    "    profiles={}\n",
    "    for u in range(len(matrix)):\n",
    "        st=''\n",
    "        for i in range(len(matrix[0])):\n",
    "            st+=int(matrix[u][i])*(ta_feature_dct[places[i][15:]]+' ').replace(' & ','+')\n",
    "        res1=Counter([x.strip(',') for x in st.split()])\n",
    "        keys=res1.keys()\n",
    "        res1p={k:10*res1[k]/sum([res1[k] for k in keys]) for k in keys}\n",
    "        profiles[u]=res1p\n",
    "    return profiles\n",
    "        \n",
    "    "
   ]
  },
  {
   "cell_type": "code",
   "execution_count": 1301,
   "metadata": {},
   "outputs": [
    {
     "data": {
      "text/plain": [
       "'LauraT2211'"
      ]
     },
     "execution_count": 1301,
     "metadata": {},
     "output_type": "execute_result"
    }
   ],
   "source": [
    "users[13]"
   ]
  },
  {
   "cell_type": "code",
   "execution_count": 1271,
   "metadata": {},
   "outputs": [],
   "source": [
    "\n",
    "res1=Counter([x.strip(',') for x in st.split()])"
   ]
  },
  {
   "cell_type": "code",
   "execution_count": 1275,
   "metadata": {},
   "outputs": [],
   "source": [
    "keys=res1.keys()\n",
    "res1p={k:10*res1[k]/sum([res1[k] for k in keys]) for k in keys}"
   ]
  },
  {
   "cell_type": "code",
   "execution_count": 1276,
   "metadata": {},
   "outputs": [
    {
     "data": {
      "text/plain": [
       "{'Shopping': 0.78125,\n",
       " 'Landmark': 0.78125,\n",
       " 'History': 1.5625,\n",
       " 'Must': 1.5625,\n",
       " 'See': 1.5625,\n",
       " 'Culture': 3.75}"
      ]
     },
     "execution_count": 1276,
     "metadata": {},
     "output_type": "execute_result"
    }
   ],
   "source": [
    "res1p"
   ]
  },
  {
   "cell_type": "code",
   "execution_count": 1195,
   "metadata": {
    "collapsed": true
   },
   "outputs": [],
   "source": [
    "good_list=[]\n",
    "for i in range(len(matrix)):\n",
    "    if sum(np.nan_to_num(matrix[i],0))!=0:\n",
    "        good_list.append(i)"
   ]
  },
  {
   "cell_type": "code",
   "execution_count": null,
   "metadata": {},
   "outputs": [],
   "source": []
  },
  {
   "cell_type": "code",
   "execution_count": 1231,
   "metadata": {},
   "outputs": [],
   "source": [
    "user_list=list(res.keys())\n",
    "# Need full list of SF locations\n",
    "places=[]\n",
    "for user_key in res.keys():\n",
    "    for place in res[user_key].keys():\n",
    "        #place=place[15:]\n",
    "        if place[15:] in list(ta_to_sf.keys()):\n",
    "            places.append(place)\n",
    "places=list(set(places))\n",
    "\n",
    "matrix=[]\n",
    "for u in user_list:\n",
    "    user_likes=[]\n",
    "    for p in places:\n",
    "        if p in list(res[u].keys()):\n",
    "            #print('hello!!!')\n",
    "            user_likes.append(res[u][p])\n",
    "        else:\n",
    "            user_likes.append(float('NaN'))\n",
    "    matrix.append(user_likes)"
   ]
  },
  {
   "cell_type": "code",
   "execution_count": 1234,
   "metadata": {},
   "outputs": [
    {
     "data": {
      "text/plain": [
       "92412.0"
      ]
     },
     "execution_count": 1234,
     "metadata": {},
     "output_type": "execute_result"
    }
   ],
   "source": [
    "sum(sum(np.nan_to_num(matrix,0)))"
   ]
  },
  {
   "cell_type": "code",
   "execution_count": 1185,
   "metadata": {},
   "outputs": [],
   "source": [
    "with open('ta_to_sf.pkl','rb') as f:\n",
    "    ta_to_sf=pkl.load(f)"
   ]
  },
  {
   "cell_type": "code",
   "execution_count": 1106,
   "metadata": {},
   "outputs": [],
   "source": [
    "matrix, user_list, places=make_matrix(res,ta_to_sf)"
   ]
  },
  {
   "cell_type": "code",
   "execution_count": 1171,
   "metadata": {},
   "outputs": [
    {
     "data": {
      "text/plain": [
       "(5679, 4)"
      ]
     },
     "execution_count": 1171,
     "metadata": {},
     "output_type": "execute_result"
    }
   ],
   "source": [
    "user_preferences=np.random.rand(len(matrix_clean),4)\n",
    "user_preferences.shape"
   ]
  },
  {
   "cell_type": "code",
   "execution_count": 1176,
   "metadata": {},
   "outputs": [
    {
     "data": {
      "text/plain": [
       "array([[1.70035249, 7.26395844, 3.39961161, 9.16661598],\n",
       "       [9.96390802, 2.7267077 , 0.08985251, 3.69848828],\n",
       "       [3.94835997, 7.24271499, 3.4891881 , 9.39494198],\n",
       "       ...,\n",
       "       [5.74084593, 4.60468641, 8.63622069, 6.05404207],\n",
       "       [5.16468659, 4.632915  , 2.78331461, 8.05414251],\n",
       "       [1.93144111, 1.72120515, 7.00676752, 2.11179151]])"
      ]
     },
     "execution_count": 1176,
     "metadata": {},
     "output_type": "execute_result"
    }
   ],
   "source": [
    "10*user_preferences"
   ]
  },
  {
   "cell_type": "code",
   "execution_count": 1177,
   "metadata": {},
   "outputs": [],
   "source": [
    "new_matrix=np.concatenate((10*user_preferences,matrix_clean),axis=1).shape"
   ]
  },
  {
   "cell_type": "code",
   "execution_count": 1143,
   "metadata": {},
   "outputs": [],
   "source": [
    "good_list=[]\n",
    "for i in range(len(matrix)):\n",
    "    if sum(np.nan_to_num(matrix[i],0))!=0:\n",
    "        good_list.append(i)\n",
    "        "
   ]
  },
  {
   "cell_type": "code",
   "execution_count": 1144,
   "metadata": {},
   "outputs": [],
   "source": [
    "users_clean=np.array(user_list)[good_list]\n",
    "matrix_clean=matrix[good_list]"
   ]
  },
  {
   "cell_type": "code",
   "execution_count": 1150,
   "metadata": {},
   "outputs": [],
   "source": [
    "subset=np.random.choice(range(len(matrix_clean)),500,replace=False)"
   ]
  },
  {
   "cell_type": "code",
   "execution_count": 1147,
   "metadata": {},
   "outputs": [],
   "source": [
    "def create_recsys(matrix,dropout=.1,latent_features=4,max_iter=100,lr=.001,epochs=5,temperature=1):\n",
    "    return recsys(matrix,matrix.shape[0],matrix.shape[1],latent_features,dropout,max_iter,epochs,temperature,lr)"
   ]
  },
  {
   "cell_type": "code",
   "execution_count": 1158,
   "metadata": {},
   "outputs": [
    {
     "data": {
      "text/plain": [
       "(500, 100)"
      ]
     },
     "execution_count": 1158,
     "metadata": {},
     "output_type": "execute_result"
    }
   ],
   "source": [
    "matrix_clean[subset][:,:100].shape"
   ]
  },
  {
   "cell_type": "code",
   "execution_count": 1162,
   "metadata": {},
   "outputs": [],
   "source": [
    "test_real=create_recsys(matrix_clean[subset][:,:1000])"
   ]
  },
  {
   "cell_type": "code",
   "execution_count": 1096,
   "metadata": {},
   "outputs": [],
   "source": [
    "# test_real=recsys(latent_features=4,dropout=.1,epochs=5,max_iter=400,lr=.001)\n"
   ]
  },
  {
   "cell_type": "code",
   "execution_count": 1163,
   "metadata": {},
   "outputs": [],
   "source": [
    "test_real.fit()"
   ]
  },
  {
   "cell_type": "code",
   "execution_count": 1178,
   "metadata": {},
   "outputs": [
    {
     "data": {
      "image/png": "[encoded data removed]",
      "text/plain": [
       "<Figure size 432x288 with 1 Axes>"
      ]
     },
     "metadata": {},
     "output_type": "display_data"
    }
   ],
   "source": [
    "plt.scatter(list(range(len(test_real.losses))),test_real.losses)\n",
    "plt.xlabel('Iteration')\n",
    "plt.ylabel('Loss')\n",
    "plt.ylim(0,1)\n",
    "plt.show()"
   ]
  },
  {
   "cell_type": "code",
   "execution_count": null,
   "metadata": {},
   "outputs": [],
   "source": []
  }
 ],
 "metadata": {
  "kernelspec": {
   "display_name": "Python 3",
   "language": "python",
   "name": "python3"
  },
  "language_info": {
   "codemirror_mode": {
    "name": "ipython",
    "version": 3
   },
   "file_extension": ".py",
   "mimetype": "text/x-python",
   "name": "python",
   "nbconvert_exporter": "python",
   "pygments_lexer": "ipython3",
   "version": "3.6.5"
  }
 },
 "nbformat": 4,
 "nbformat_minor": 2
}
