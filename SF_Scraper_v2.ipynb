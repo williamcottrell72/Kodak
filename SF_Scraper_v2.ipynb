{
 "cells": [
  {
   "cell_type": "code",
   "execution_count": 2,
   "metadata": {},
   "outputs": [
    {
     "name": "stderr",
     "output_type": "stream",
     "text": [
      "/home/williamcottrell72/anaconda3/lib/python3.6/site-packages/fuzzywuzzy/fuzz.py:11: UserWarning: Using slow pure-python SequenceMatcher. Install python-Levenshtein to remove this warning\n",
      "  warnings.warn('Using slow pure-python SequenceMatcher. Install python-Levenshtein to remove this warning')\n"
     ]
    }
   ],
   "source": [
    "import pickle as pkl\n",
    "import datetime\n",
    "\n",
    "import csv\n",
    "# Scraping items\n",
    "from bs4 import BeautifulSoup\n",
    "import requests\n",
    "\n",
    "from selenium import webdriver\n",
    "from selenium.webdriver.common.keys import Keys\n",
    "import time\n",
    "\n",
    "import os\n",
    "\n",
    "from IPython.core.display import display, HTML\n",
    "import concurrent.futures\n",
    "\n",
    "from collections import Counter\n",
    "import numpy as np\n",
    "from scipy import stats\n",
    "\n",
    "import pandas as pd\n",
    "from subprocess import call\n",
    "import concurrent.futures\n",
    "from fuzzywuzzy import fuzz\n",
    "from fuzzywuzzy import process\n",
    "\n",
    "#from pymongo import MongoClient"
   ]
  },
  {
   "cell_type": "code",
   "execution_count": 4,
   "metadata": {},
   "outputs": [],
   "source": [
    "chromedriver = \"/home/williamcottrell72/Downloads/chromedriver_linux64/chromedriver\" # path to the chromedriver executable\n",
    "os.environ[\"webdriver.chrome.driver\"] = chromedriver\n",
    "driver = webdriver.Chrome(chromedriver)"
   ]
  },
  {
   "cell_type": "code",
   "execution_count": null,
   "metadata": {},
   "outputs": [],
   "source": [
    "# List of reviews\n",
    "with open('SF_Urls','r') as f:\n",
    "    urls=pd.read_csv(f)\n",
    "urls2=[x.strip().strip('\\'').strip('\\'') for x in list(urls.columns)]"
   ]
  },
  {
   "cell_type": "code",
   "execution_count": 5,
   "metadata": {},
   "outputs": [],
   "source": [
    "sf_attraction_template='https://www.tripadvisor.com/Attractions-g60713-Activities-oa{}-San_Francisco_California.html#FILTERED_LIST'\n",
    "\n",
    "\n",
    "def make_url_list(sf_attraction_template):\n",
    "    \n",
    "    #The inital and other pages are slightly different so we just break these up\n",
    "    \n",
    "    initial_page=sf_attraction_template.format('')\n",
    "    other_pages=[sf_attraction_template.format(30*i) for i in range(1,25)]\n",
    "    all_pages=[initial_page]+other_pages\n",
    "    \n",
    "    urls_final=[]\n",
    "    \n",
    "    for p in all_pages:\n",
    "        \n",
    "        try:\n",
    "            driver.get(p)\n",
    "            soup=BeautifulSoup(driver.page_source,'html.parser')\n",
    "            individual_urls=soup.find_all('div', class_='listing_title')\n",
    "\n",
    "            for iu in individual_urls:\n",
    "                partial_url=iu.find('a')['href']\n",
    "                full_url='https://www.tripadvisor.com'+partial_url\n",
    "                urls_final.append(full_url)\n",
    "        except:\n",
    "            pass\n",
    "        \n",
    "    return urls_final"
   ]
  },
  {
   "cell_type": "code",
   "execution_count": 6,
   "metadata": {},
   "outputs": [],
   "source": [
    "#urls_final=make_url_list(sf_attraction_template)\n",
    "\n",
    "# with open('urls_final.pkl','wb') as f:\n",
    "#     pkl.dump(urls_final,f)\n",
    "\n",
    "with open('urls_final.pkl','rb') as f:\n",
    "    urls_final=pkl.load(f)"
   ]
  },
  {
   "cell_type": "code",
   "execution_count": 7,
   "metadata": {},
   "outputs": [],
   "source": [
    "driver.get(urls_final[30])"
   ]
  },
  {
   "cell_type": "code",
   "execution_count": 16,
   "metadata": {},
   "outputs": [],
   "source": [
    "location_info2={}\n",
    "for url in urls_final:\n",
    "    driver.get(url)\n",
    "    soup=BeautifulSoup(driver.page_source,'html.parser')\n",
    "    try:\n",
    "        rating=soup.find('span',class_='ui_bubble_rating bubble_40')['alt'][0]\n",
    "    except:\n",
    "        rating='None'\n",
    "    try:\n",
    "        tags=[x.text for x in soup.find('div',class_='detail').find_all('a',href=True)]\n",
    "    except:\n",
    "        tags=['None']\n",
    "    name=soup.find(id='HEADING').text\n",
    "    location_info2[name]=[rating,tags]\n",
    "\n",
    "    \n"
   ]
  },
  {
   "cell_type": "code",
   "execution_count": 26,
   "metadata": {},
   "outputs": [],
   "source": [
    "# with open('location_info.pkl','wb') as f:\n",
    "#      pkl.dump(location_info,f)\n",
    "\n",
    "with open('location_info2.pkl','rb') as f:\n",
    "    location_info2 = pkl.load(f)"
   ]
  },
  {
   "cell_type": "code",
   "execution_count": null,
   "metadata": {},
   "outputs": [],
   "source": []
  },
  {
   "cell_type": "code",
   "execution_count": 34,
   "metadata": {},
   "outputs": [],
   "source": [
    "loc_info={x.strip('\\n').strip('\\u200e') : location_info2[x] for x in list(location_info2.keys())}"
   ]
  },
  {
   "cell_type": "code",
   "execution_count": 35,
   "metadata": {},
   "outputs": [],
   "source": [
    "with open('data/loc_info.pkl','wb') as f:\n",
    "    pkl.dump(loc_info,f)"
   ]
  },
  {
   "cell_type": "code",
   "execution_count": null,
   "metadata": {},
   "outputs": [],
   "source": [
    "new_keys"
   ]
  },
  {
   "cell_type": "code",
   "execution_count": 19,
   "metadata": {},
   "outputs": [
    {
     "data": {
      "text/plain": [
       "Counter({'Sights & Landmarks': 1, 'Piers & Boardwalks': 1, 'Neighborhoods': 2})"
      ]
     },
     "execution_count": 19,
     "metadata": {},
     "output_type": "execute_result"
    }
   ],
   "source": [
    "Counter(tags+['Neighborhoods'])"
   ]
  },
  {
   "cell_type": "code",
   "execution_count": null,
   "metadata": {},
   "outputs": [],
   "source": [
    "#Need map taking places to counts.\n"
   ]
  }
 ],
 "metadata": {
  "kernelspec": {
   "display_name": "Python 3",
   "language": "python",
   "name": "python3"
  },
  "language_info": {
   "codemirror_mode": {
    "name": "ipython",
    "version": 3
   },
   "file_extension": ".py",
   "mimetype": "text/x-python",
   "name": "python",
   "nbconvert_exporter": "python",
   "pygments_lexer": "ipython3",
   "version": "3.6.5"
  }
 },
 "nbformat": 4,
 "nbformat_minor": 2
}
